{
 "cells": [
  {
   "cell_type": "code",
   "execution_count": 1,
   "metadata": {},
   "outputs": [],
   "source": [
    "import numpy as np, pandas as pd\n",
    "import matplotlib.pyplot as plt\n",
    "from datetime import datetime\n",
    "\n",
    "df_tr = pd.read_csv(\"train.csv\")\n",
    "\n",
    "def polyline_to_trip_duration(polyline):\n",
    "  return max(polyline.count(\"[\") - 2, 0) * 15\n",
    "\n",
    "df_tr[\"LEN\"] = df_tr[\"POLYLINE\"].apply(polyline_to_trip_duration)\n",
    "\n",
    "def parse_time(x):\n",
    "  dt = datetime.fromtimestamp(x[\"TIMESTAMP\"])\n",
    "  return dt.year, dt.month, dt.day, dt.hour, dt.weekday()\n",
    "\n",
    "df_tr[[\"YR\", \"MON\", \"DAY\", \"HR\", \"WK\"]] = df_tr[[\"TIMESTAMP\"]].apply(parse_time, axis=1, result_type=\"expand\")"
   ]
  },
  {
   "cell_type": "code",
   "execution_count": 2,
   "metadata": {},
   "outputs": [],
   "source": [
    "df_tst = pd.read_csv(\"test_public.csv\")\n",
    "df_tr_ = df_tr.copy(deep=True)\n",
    "df_tr_ = df_tr_.drop(['TRIP_ID','YR','DAY_TYPE','ORIGIN_CALL','ORIGIN_STAND','TAXI_ID','TIMESTAMP','MISSING_DATA','POLYLINE'], axis=1)\n",
    "df_tr_['CALL'] = [ord(x)-ord('A') for x in df_tr_['CALL_TYPE']]\n",
    "df_tr_ = df_tr_.drop(['CALL_TYPE'], axis=1)"
   ]
  },
  {
   "cell_type": "code",
   "execution_count": 3,
   "metadata": {},
   "outputs": [],
   "source": [
    "# input should be (N, 1), output is (N, dim)\n",
    "def one_hot(in_dat, dim):\n",
    "    out_dat = np.zeros((in_dat.shape[0], dim))\n",
    "    for ind in range(in_dat.shape[0]):\n",
    "        out_dat[ind, in_dat[ind]] = 1\n",
    "    return out_dat\n",
    "\n",
    "# HR, CALL, DAY one-hot encoded\n",
    "# input should be (N, 3)\n",
    "def converter(in_dat):\n",
    "    hr_dat = one_hot(in_dat[:, 0], 24)\n",
    "    call_dat = one_hot(in_dat[:, 1], 3)\n",
    "    \n",
    "    return np.concatenate((hr_dat, call_dat), axis=1)"
   ]
  },
  {
   "cell_type": "code",
   "execution_count": 4,
   "metadata": {},
   "outputs": [],
   "source": [
    "hr_call_in = converter(df_tr_[[\"HR\", \"CALL\"]].to_numpy())"
   ]
  },
  {
   "cell_type": "code",
   "execution_count": 5,
   "metadata": {
    "scrolled": true
   },
   "outputs": [
    {
     "name": "stdout",
     "output_type": "stream",
     "text": [
      "(320, 27)\n",
      "(1710670, 27)\n"
     ]
    }
   ],
   "source": [
    "df_tst_ = df_tst.copy(deep=True)\n",
    "df_tst_[[\"YR\", \"MON\", \"DAY\", \"HR\", \"WK\"]] = df_tst_[[\"TIMESTAMP\"]].apply(parse_time, axis=1, result_type=\"expand\")\n",
    "df_tst_ = df_tst_.drop(['YR','DAY_TYPE','ORIGIN_CALL','ORIGIN_STAND','TAXI_ID','TIMESTAMP','MISSING_DATA'], axis=1)\n",
    "df_tst_['CALL'] = [ord(x)-ord('A') for x in df_tst_['CALL_TYPE']]\n",
    "\n",
    "tst_np = converter(df_tst_[[\"HR\",\"CALL\", \"MON\"]].to_numpy())\n",
    "print(tst_np.shape)\n",
    "print(hr_call_in.shape)"
   ]
  },
  {
   "cell_type": "code",
   "execution_count": 6,
   "metadata": {},
   "outputs": [
    {
     "data": {
      "text/plain": [
       "(1710990, 27)"
      ]
     },
     "execution_count": 6,
     "metadata": {},
     "output_type": "execute_result"
    }
   ],
   "source": [
    "all_dat = np.concatenate((hr_call_in, tst_np), axis=0)\n",
    "all_dat.shape"
   ]
  },
  {
   "cell_type": "code",
   "execution_count": 7,
   "metadata": {},
   "outputs": [
    {
     "name": "stdout",
     "output_type": "stream",
     "text": [
      "CPU times: user 1min 7s, sys: 55 s, total: 2min 2s\n",
      "Wall time: 19.2 s\n"
     ]
    }
   ],
   "source": [
    "%%time\n",
    "\n",
    "from sklearn.decomposition import TruncatedSVD\n",
    "\n",
    "svd = TruncatedSVD(n_components=4, algorithm='arpack', n_iter=7, random_state=42)\n",
    "all_dat_trans = svd.fit_transform(all_dat)"
   ]
  },
  {
   "cell_type": "code",
   "execution_count": 44,
   "metadata": {},
   "outputs": [
    {
     "data": {
      "text/plain": [
       "(1710990, 4)"
      ]
     },
     "execution_count": 44,
     "metadata": {},
     "output_type": "execute_result"
    }
   ],
   "source": [
    "all_dat_trans.shape"
   ]
  },
  {
   "cell_type": "code",
   "execution_count": 45,
   "metadata": {},
   "outputs": [],
   "source": [
    "train_trans = all_dat_trans[:hr_call_in.shape[0]]\n",
    "tst_trans = all_dat_trans[hr_call_in.shape[0]:]"
   ]
  },
  {
   "cell_type": "code",
   "execution_count": 46,
   "metadata": {},
   "outputs": [
    {
     "name": "stdout",
     "output_type": "stream",
     "text": [
      "(1710670, 4)\n",
      "(320, 4)\n"
     ]
    }
   ],
   "source": [
    "print(train_trans.shape)\n",
    "print(tst_trans.shape)"
   ]
  },
  {
   "cell_type": "code",
   "execution_count": 47,
   "metadata": {
    "scrolled": true
   },
   "outputs": [
    {
     "name": "stdout",
     "output_type": "stream",
     "text": [
      "CPU times: user 2min, sys: 949 ms, total: 2min 1s\n",
      "Wall time: 2min\n"
     ]
    },
    {
     "data": {
      "text/plain": [
       "KNeighborsRegressor(algorithm='ball_tree', leaf_size=512, n_jobs=-1,\n",
       "                    n_neighbors=3)"
      ]
     },
     "execution_count": 47,
     "metadata": {},
     "output_type": "execute_result"
    }
   ],
   "source": [
    "%%time\n",
    "\n",
    "from sklearn.neighbors import KNeighborsRegressor\n",
    "\n",
    "neigh = KNeighborsRegressor(n_neighbors=3, weights='distance', algorithm='ball_tree', leaf_size=512, n_jobs=-1)\n",
    "neigh.fit(train_trans, df_tr[\"LEN\"].to_numpy(dtype='float'))"
   ]
  },
  {
   "cell_type": "code",
   "execution_count": 48,
   "metadata": {
    "scrolled": true
   },
   "outputs": [
    {
     "name": "stdout",
     "output_type": "stream",
     "text": [
      "0\n",
      "10\n",
      "20\n",
      "30\n",
      "40\n",
      "50\n",
      "60\n",
      "70\n",
      "80\n",
      "90\n",
      "100\n",
      "110\n",
      "120\n",
      "130\n",
      "140\n",
      "150\n",
      "160\n",
      "170\n",
      "180\n",
      "190\n",
      "200\n",
      "210\n",
      "220\n",
      "230\n",
      "240\n",
      "250\n",
      "260\n",
      "270\n",
      "280\n",
      "290\n",
      "300\n",
      "310\n",
      "CPU times: user 2.59 s, sys: 865 ms, total: 3.45 s\n",
      "Wall time: 2.83 s\n"
     ]
    }
   ],
   "source": [
    "%%time\n",
    "\n",
    "df_sample = pd.read_csv(\"sampleSubmission.csv\")\n",
    "\n",
    "# print(df_sample)\n",
    "for index in range(len(tst_np)):\n",
    "    if index % 10 == 0:\n",
    "        print(index)\n",
    "    df_sample.at[index, 'TRAVEL_TIME'] = neigh.predict(tst_trans[index:index+1])\n",
    "\n",
    "df_sample.to_csv(\"my_pred.csv\", index=None)"
   ]
  }
 ],
 "metadata": {
  "kernelspec": {
   "display_name": "Python 3 (ipykernel)",
   "language": "python",
   "name": "python3"
  },
  "language_info": {
   "codemirror_mode": {
    "name": "ipython",
    "version": 3
   },
   "file_extension": ".py",
   "mimetype": "text/x-python",
   "name": "python",
   "nbconvert_exporter": "python",
   "pygments_lexer": "ipython3",
   "version": "3.9.5"
  }
 },
 "nbformat": 4,
 "nbformat_minor": 2
}
